{
 "cells": [
  {
   "cell_type": "markdown",
   "metadata": {},
   "source": [
    "# 『本次練習內容』\n",
    "#### 運用Keras搭建簡單的Dense Layer與 Convolution2D Layer，使用相同Neurons數量，計算總參數量相差多少。\n",
    "# 『本次練習目的』\n",
    "#### 本次練習主要是要讓各位同學們了解CNN與FC層的參數使用量差異\n",
    "#### Convolution2D有許多參數可以設置，之後章節會細談\n",
    "#### 不熟Keras的學員們也可以藉此了解NN層的不同搭法"
   ]
  },
  {
   "cell_type": "code",
   "execution_count": 7,
   "metadata": {},
   "outputs": [],
   "source": [
    "from tensorflow.keras.models import Sequential\n",
    "from tensorflow.keras.layers import Convolution2D\n",
    "from tensorflow.keras.layers import Input, Dense\n",
    "from tensorflow.keras.models import Model"
   ]
  },
  {
   "cell_type": "code",
   "execution_count": 23,
   "metadata": {},
   "outputs": [
    {
     "name": "stdout",
     "output_type": "stream",
     "text": [
      "_________________________________________________________________\n",
      "Layer (type)                 Output Shape              Param #   \n",
      "=================================================================\n",
      "conv2d_2 (Conv2D)            (None, 28, 28, 32)        320       \n",
      "=================================================================\n",
      "Total params: 320\n",
      "Trainable params: 320\n",
      "Non-trainable params: 0\n",
      "_________________________________________________________________\n",
      "None\n",
      "_________________________________________________________________\n",
      "Layer (type)                 Output Shape              Param #   \n",
      "=================================================================\n",
      "input_3 (InputLayer)         (None, 784)               0         \n",
      "_________________________________________________________________\n",
      "dense_2 (Dense)              (None, 288)               226080    \n",
      "=================================================================\n",
      "Total params: 226,080\n",
      "Trainable params: 226,080\n",
      "Non-trainable params: 0\n",
      "_________________________________________________________________\n",
      "None\n"
     ]
    }
   ],
   "source": [
    "##輸入照片尺寸==28*28*1\n",
    "\n",
    "##都用一層，288個神經元\n",
    "\n",
    "##建造一個一層的CNN層\n",
    "classifier=Sequential() #The Sequential model is a linear stack of layers.\n",
    "\n",
    "##Kernel size 3*3，用32張，輸入大小28*28*1\n",
    "\n",
    "classifier.add(Convolution2D(filters=32 ,kernel_size=(3,3) ,padding=\"same\",input_shape=(28,28,1))) #32張Kernel，大小為3*3，輸入尺寸為28*28*1\n",
    "#Convolution2D:当使用该层作为模型第一层时，需要提供 input_shape 参数 （整数元组，不包含样本表示的轴）\n",
    "\n",
    "##看看model結構\n",
    "print(classifier.summary())\n",
    "#Params = (Kernel_size_H * Kernel_size_W * input_channels + 1) * Kernel numbers-->(3*3*1+1)*32=320\n",
    "#Kernel_size_H * Kernel_size_W * input_channels + 1, 1 for bias \n",
    "#理解輸出Total params為何==320\n",
    "\n",
    "##建造一個一層的FC層\n",
    "classifier=Sequential()\n",
    "##輸入為28*28*1攤平==784(拉成一維向量)\n",
    "inputs = Input(shape=(784 ,)) #輸入尺寸為28*28*1\n",
    "##CNN中用了(3*3*1)*32個神經元，我們這邊也用相同神經元數量\n",
    "x=Dense(units=32*9)(inputs)#使用288(32x9)個神經元\n",
    "#units: Positive integer, dimensionality of the output space.\n",
    "\n",
    "model = Model(inputs=inputs, outputs=x)\n",
    "##看看model結構\n",
    "print(model.summary())\n",
    "#理解輸出Total params為何==226080\n",
    "# Params = (Kernel_size_H * Kernel_size_W * input_channels + 1) * Kernel numbers =(1 * 1 * 784 + 1) * 288 = 226080\n",
    "# 使用FC Layer的算法\n",
    "# Params=Inputs *Outputs + Outputs(bias) = 784 * 288 +288 =226080\n",
    "##大家可以自己變換設定看看參數變化"
   ]
  },
  {
   "cell_type": "code",
   "execution_count": null,
   "metadata": {},
   "outputs": [],
   "source": []
  },
  {
   "cell_type": "markdown",
   "metadata": {},
   "source": [
    "# reference"
   ]
  },
  {
   "cell_type": "code",
   "execution_count": 2,
   "metadata": {},
   "outputs": [],
   "source": [
    "#CNN參數量計算:\n",
    "#https://www.brilliantcode.net/1646/convolutional-neural-networks-3-calculate-number-of-parameters/\n",
    "#CNN,FC:\n",
    "#https://medium.com/@syshen/%E5%85%A5%E9%96%80%E6%B7%B1%E5%BA%A6%E5%AD%B8%E7%BF%92-2-d694cad7d1e5\n",
    "#Keras document:\n",
    "#https://keras.io/getting-started/sequential-model-guide/\n",
    "#activation function:\n",
    "#https://morvanzhou.github.io/tutorials/machine-learning/ML-intro/3-04-activation-function/"
   ]
  }
 ],
 "metadata": {
  "kernelspec": {
   "display_name": "Python 3",
   "language": "python",
   "name": "python3"
  },
  "language_info": {
   "codemirror_mode": {
    "name": "ipython",
    "version": 3
   },
   "file_extension": ".py",
   "mimetype": "text/x-python",
   "name": "python",
   "nbconvert_exporter": "python",
   "pygments_lexer": "ipython3",
   "version": "3.5.6"
  }
 },
 "nbformat": 4,
 "nbformat_minor": 2
}
